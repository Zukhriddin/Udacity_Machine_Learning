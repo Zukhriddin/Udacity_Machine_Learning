{
 "cells": [
  {
   "cell_type": "markdown",
   "id": "0e9d20eb",
   "metadata": {},
   "source": [
    "## Intro to Machine Learning (UDACITY Course)\n",
    "### Zukhriddin Juliev\n",
    "<a id = '0'></a>\n",
    "\n",
    "Description: This project is compilation of all functions learned during Udacity Intro to machine Learning online course\n",
    "### Outline\n",
    "\n",
    "1. [Introduction: Data and Question](#1)\n",
    "2. [Data preparation, importing functions](#2)\n",
    "3. [Application of functions using default features](#3)\n",
    "4. [Application by choosing best parametres](#4)\n",
    "5. [Logistic Regression with Regularization](#5)\n",
    "6. [Linear Model with Lasso](#6)\n",
    "7. [Concluding remarks](#7)\n",
    "\n",
    "### Introduction\n",
    "<a id = '1'></a>\n",
    "In this project I will be using different algorithms of machine learning. I will outline the algorithmes, generate accuracy scores and compare.\n",
    "The project uses ENRON email dataset. The main question asks what is most successful algorithm to predict the 'Person of Interest (POI)' within the dataset. Data consist of data on 145 enron staff. There are 19 features: financial, email info etc.\n",
    "\n",
    "### Data Preparation\n",
    "<a id = '2'></a>\n",
    "Importing main packages and creating a function to clean data from zeros, NaN and missing values."
   ]
  },
  {
   "cell_type": "code",
   "execution_count": 1,
   "id": "b0390a68",
   "metadata": {},
   "outputs": [],
   "source": [
    "import numpy as np\n",
    "import pandas as pd\n",
    "import joblib\n",
    "\n",
    "def featureFormat(dictionary, features, remove_NaN=True, remove_all_zeroes=True, remove_any_zeroes=False, sort_keys = False):\n",
    "    \"\"\" \n",
    "        convert dictionary to numpy array of features\n",
    "        remove_NaN = True will convert \"NaN\" string to 0.0\n",
    "        remove_all_zeroes = True will omit any data points for which\n",
    "            all the features you seek are 0.0\n",
    "        remove_any_zeroes = True will omit any data points for which\n",
    "            any of the features you seek are 0.0\n",
    "        sort_keys = True sorts keys by alphabetical order. Setting the value as\n",
    "            a string opens the corresponding pickle file with a preset key\n",
    "            order (this is used for Python 3 compatibility, and sort_keys\n",
    "            should be left as False for the course mini-projects).\n",
    "        NOTE: first feature is assumed to be 'poi' and is not checked for\n",
    "            removal for zero or missing values.\n",
    "    \"\"\"\n",
    "\n",
    "    return_list = []\n",
    "\n",
    "    # Key order - first branch is for Python 3 compatibility on mini-projects,\n",
    "    # second branch is for compatibility on final project.\n",
    "    if isinstance(sort_keys, str):\n",
    "        import joblib\n",
    "        keys = joblib.load(open(sort_keys, \"rb\"))\n",
    "    elif sort_keys:\n",
    "        keys = sorted(dictionary.keys())\n",
    "    else:\n",
    "        keys = dictionary.keys()\n",
    "\n",
    "    for key in keys:\n",
    "        tmp_list = []\n",
    "        for feature in features:\n",
    "            try:\n",
    "                dictionary[key][feature]\n",
    "            except KeyError:\n",
    "                print(\"Error: Key \", feature, \" Not Present\")\n",
    "                return\n",
    "            value = dictionary[key][feature]\n",
    "            if value == 'NaN' and remove_NaN:\n",
    "                value = 0\n",
    "            tmp_list.append( float(value) )\n",
    "\n",
    "        # Logic for deciding whether or not to add the data point.\n",
    "        append = True\n",
    "        # exclude 'poi' class as criteria.\n",
    "        if features[0] == 'poi':\n",
    "            test_list = tmp_list[1:]\n",
    "        else:\n",
    "            test_list = tmp_list\n",
    "        ### if all features are zero and you want to remove\n",
    "        ### data points that are all zero, do that here\n",
    "        if remove_all_zeroes:\n",
    "            append = False\n",
    "            for item in test_list:\n",
    "                if item != 0 and item != 'NaN':\n",
    "                    append = True\n",
    "                    break\n",
    "        ### if any features for a given data point are zero\n",
    "        ### and you want to remove data points with any zeroes,\n",
    "        ### handle that here\n",
    "        if remove_any_zeroes:\n",
    "            if 0 in test_list or 'NaN' in test_list:\n",
    "                append = False\n",
    "        ### Append the data point if flagged for addition.\n",
    "        if append:\n",
    "            return_list.append( np.array(tmp_list) )\n",
    "\n",
    "    return np.array(return_list)"
   ]
  },
  {
   "cell_type": "markdown",
   "id": "5235ab3c",
   "metadata": {},
   "source": [
    "Importing dataset and splitting it into train and test samples"
   ]
  },
  {
   "cell_type": "code",
   "execution_count": 2,
   "id": "79479f46",
   "metadata": {},
   "outputs": [],
   "source": [
    "import joblib\n",
    "\n",
    "data_dict = joblib.load(open(\"final_project_dataset_unix.pkl\", \"rb\") )\n",
    "\n",
    "features_list = ['poi', 'salary', 'to_messages', 'deferral_payments', 'total_payments', 'loan_advances', 'bonus', \n",
    "                 'restricted_stock_deferred', 'deferred_income', 'total_stock_value', 'expenses', \n",
    "              'from_poi_to_this_person', 'exercised_stock_options', 'from_messages', 'other', 'from_this_person_to_poi',\n",
    "                 'long_term_incentive', 'shared_receipt_with_poi', 'restricted_stock', 'director_fees']\n",
    "\n",
    "data = featureFormat(data_dict, features_list)\n",
    "\n",
    "## Scaling\n",
    "from sklearn.preprocessing import MinMaxScaler\n",
    "scaler = MinMaxScaler()\n",
    "rescaled_data = scaler.fit_transform(data)\n",
    "\n",
    "target = []\n",
    "features = []\n",
    "for item in rescaled_data:\n",
    "        target.append( item[0] )\n",
    "        features.append( item[1:] )\n",
    "\n",
    "#Splitting the data into train and test samples\n",
    "from sklearn.model_selection import train_test_split\n",
    "xtrain, xtest, ytrain, ytest = train_test_split(features, target, test_size = 0.25, random_state = 42)"
   ]
  },
  {
   "cell_type": "markdown",
   "id": "fc49ef4f",
   "metadata": {},
   "source": [
    "Importing main ML functions and evaluation method."
   ]
  },
  {
   "cell_type": "code",
   "execution_count": 4,
   "id": "a4d3fda3",
   "metadata": {},
   "outputs": [],
   "source": [
    "## Functions\n",
    "from sklearn.naive_bayes import GaussianNB\n",
    "from sklearn.cluster import KMeans\n",
    "from sklearn.neighbors import KNeighborsClassifier\n",
    "from sklearn.svm import SVC\n",
    "from sklearn.ensemble import AdaBoostClassifier\n",
    "from sklearn.tree import DecisionTreeClassifier\n",
    "from sklearn.ensemble import RandomForestClassifier\n",
    "from sklearn.linear_model import LogisticRegression\n",
    "## Evaluation\n",
    "from sklearn.metrics import accuracy_score"
   ]
  },
  {
   "cell_type": "code",
   "execution_count": 5,
   "id": "8b7f5135",
   "metadata": {},
   "outputs": [],
   "source": [
    "import matplotlib.pyplot as plt\n",
    "%matplotlib inline\n",
    "#plt.style.use('tableau-colorblind10')\n",
    "#plt.style.use('Solarize_Light2')\n",
    "plt.style.use('bmh')"
   ]
  },
  {
   "cell_type": "code",
   "execution_count": 6,
   "id": "62632757",
   "metadata": {},
   "outputs": [],
   "source": [
    "## Ignoring warnings\n",
    "import warnings\n",
    "warnings.filterwarnings(\"ignore\")"
   ]
  },
  {
   "cell_type": "markdown",
   "id": "bf1b55ee",
   "metadata": {},
   "source": [
    "### [Return to START](#0)\n",
    "\n",
    "### Application of functions using default parametres\n",
    "<a id = '3'></a>\n",
    "Creating a function to calculate scores for each ML function."
   ]
  },
  {
   "cell_type": "code",
   "execution_count": 7,
   "id": "9f93cbea",
   "metadata": {},
   "outputs": [],
   "source": [
    "def scores(function):\n",
    "    clf = function\n",
    "    clf.fit(xtrain, ytrain)\n",
    "    pred = clf.predict(xtest)\n",
    "    return accuracy_score(pred, ytest)"
   ]
  },
  {
   "cell_type": "code",
   "execution_count": 8,
   "id": "bf8e4042",
   "metadata": {
    "scrolled": false
   },
   "outputs": [
    {
     "data": {
      "text/html": [
       "<div>\n",
       "<style scoped>\n",
       "    .dataframe tbody tr th:only-of-type {\n",
       "        vertical-align: middle;\n",
       "    }\n",
       "\n",
       "    .dataframe tbody tr th {\n",
       "        vertical-align: top;\n",
       "    }\n",
       "\n",
       "    .dataframe thead th {\n",
       "        text-align: right;\n",
       "    }\n",
       "</style>\n",
       "<table border=\"1\" class=\"dataframe\">\n",
       "  <thead>\n",
       "    <tr style=\"text-align: right;\">\n",
       "      <th></th>\n",
       "      <th>Score</th>\n",
       "    </tr>\n",
       "  </thead>\n",
       "  <tbody>\n",
       "    <tr>\n",
       "      <th>Random Forest Classifier</th>\n",
       "      <td>0.972973</td>\n",
       "    </tr>\n",
       "    <tr>\n",
       "      <th>SVC</th>\n",
       "      <td>0.918919</td>\n",
       "    </tr>\n",
       "    <tr>\n",
       "      <th>KNeighbors</th>\n",
       "      <td>0.918919</td>\n",
       "    </tr>\n",
       "    <tr>\n",
       "      <th>Ada Boost Classifier</th>\n",
       "      <td>0.810811</td>\n",
       "    </tr>\n",
       "    <tr>\n",
       "      <th>Decision Tree Classifier</th>\n",
       "      <td>0.756757</td>\n",
       "    </tr>\n",
       "    <tr>\n",
       "      <th>KMeans</th>\n",
       "      <td>0.702703</td>\n",
       "    </tr>\n",
       "    <tr>\n",
       "      <th>Gaussian</th>\n",
       "      <td>0.270270</td>\n",
       "    </tr>\n",
       "  </tbody>\n",
       "</table>\n",
       "</div>"
      ],
      "text/plain": [
       "                             Score\n",
       "Random Forest Classifier  0.972973\n",
       "SVC                       0.918919\n",
       "KNeighbors                0.918919\n",
       "Ada Boost Classifier      0.810811\n",
       "Decision Tree Classifier  0.756757\n",
       "KMeans                    0.702703\n",
       "Gaussian                  0.270270"
      ]
     },
     "execution_count": 8,
     "metadata": {},
     "output_type": "execute_result"
    }
   ],
   "source": [
    "functions_1 = {'Gaussian': GaussianNB(), 'SVC': SVC(), 'KMeans': KMeans(), 'KNeighbors': KNeighborsClassifier(), \n",
    "             'Ada Boost Classifier': AdaBoostClassifier(), 'Decision Tree Classifier': DecisionTreeClassifier(), \n",
    "             'Random Forest Classifier': RandomForestClassifier()}\n",
    "Dict_1 = {}\n",
    "for i, j in functions_1.items():\n",
    "    Dict_1[i] = {}\n",
    "    accuracy = scores(j)\n",
    "    Dict_1[i]['Score'] = accuracy\n",
    "\n",
    "table_1 = pd.DataFrame(Dict_1).transpose().sort_values('Score', ascending = False)\n",
    "table_1"
   ]
  },
  {
   "cell_type": "code",
   "execution_count": 9,
   "id": "c8b077a5",
   "metadata": {},
   "outputs": [
    {
     "data": {
      "image/png": "[encoded data removed]",
      "text/plain": [
       "<Figure size 432x288 with 1 Axes>"
      ]
     },
     "metadata": {
      "needs_background": "light"
     },
     "output_type": "display_data"
    }
   ],
   "source": [
    "table_1['Score'].plot.barh(color = 'gray');"
   ]
  },
  {
   "cell_type": "markdown",
   "id": "9c227eeb",
   "metadata": {},
   "source": [
    "### Application of functions using best parametres\n",
    "<a id = '4'></a>"
   ]
  },
  {
   "cell_type": "code",
   "execution_count": 10,
   "id": "8e95465e",
   "metadata": {},
   "outputs": [],
   "source": [
    "functions_2 = {SVC(): {'kernel': ('linear', 'rbf'), 'C': np.arange(1, 11)}, \n",
    "             KMeans(): {'n_clusters' : range(2,11)}, \n",
    "             KNeighborsClassifier(): {'n_neighbors': range(2,11), \n",
    "                                      'weights': ('uniform', 'distance'),\n",
    "                                      'algorithm': ('auto', 'ball_tree', 'kd_tree', 'brute')}, \n",
    "             AdaBoostClassifier(): {'n_estimators': range(1,50,5)}, \n",
    "             DecisionTreeClassifier(): {'criterion': ('gini', 'entropy', 'log_loss'), \n",
    "                                        'max_features': ('sqrt', 'log2')}, \n",
    "             RandomForestClassifier(): {'n_estimators': range(10,100, 10), \n",
    "                                        'criterion': ('gini', 'entropy', 'log_loss'), \n",
    "                                        'max_features': ('sqrt', 'log2')}}"
   ]
  },
  {
   "cell_type": "code",
   "execution_count": 11,
   "id": "3956114e",
   "metadata": {},
   "outputs": [],
   "source": [
    "from sklearn.model_selection import GridSearchCV\n",
    "def grid_search(function, param):\n",
    "    clf = GridSearchCV(function, param)\n",
    "    clf.fit(xtrain, ytrain)\n",
    "    return clf.best_params_, accuracy_score(clf.predict(xtest), ytest)"
   ]
  },
  {
   "cell_type": "code",
   "execution_count": 12,
   "id": "3ab62f68",
   "metadata": {},
   "outputs": [],
   "source": [
    "Dict_2 = {}\n",
    "for i, j in functions_2.items():\n",
    "    name = str(i).replace('()', \"\")\n",
    "    Dict_2[name] = {}\n",
    "    params, score = grid_search(i,j)\n",
    "    Dict_2[name]['Best Parameters'] = params\n",
    "    Dict_2[name]['Score'] = score"
   ]
  },
  {
   "cell_type": "code",
   "execution_count": 13,
   "id": "1da9267a",
   "metadata": {},
   "outputs": [],
   "source": [
    "## Adding Gaussian with default parametres as best parametres\n",
    "Dict_2['Gaussian NB'] = {}\n",
    "Dict_2['Gaussian NB']['Best Parameters'] = 'Default'\n",
    "Dict_2['Gaussian NB']['Score'] = scores(GaussianNB())"
   ]
  },
  {
   "cell_type": "code",
   "execution_count": 14,
   "id": "85a179e1",
   "metadata": {},
   "outputs": [
    {
     "data": {
      "text/html": [
       "<div>\n",
       "<style scoped>\n",
       "    .dataframe tbody tr th:only-of-type {\n",
       "        vertical-align: middle;\n",
       "    }\n",
       "\n",
       "    .dataframe tbody tr th {\n",
       "        vertical-align: top;\n",
       "    }\n",
       "\n",
       "    .dataframe thead th {\n",
       "        text-align: right;\n",
       "    }\n",
       "</style>\n",
       "<table border=\"1\" class=\"dataframe\">\n",
       "  <thead>\n",
       "    <tr style=\"text-align: right;\">\n",
       "      <th></th>\n",
       "      <th>Best Parameters</th>\n",
       "      <th>Score</th>\n",
       "    </tr>\n",
       "  </thead>\n",
       "  <tbody>\n",
       "    <tr>\n",
       "      <th>SVC</th>\n",
       "      <td>{'C': 1, 'kernel': 'rbf'}</td>\n",
       "      <td>0.918919</td>\n",
       "    </tr>\n",
       "    <tr>\n",
       "      <th>KNeighborsClassifier</th>\n",
       "      <td>{'algorithm': 'auto', 'n_neighbors': 6, 'weigh...</td>\n",
       "      <td>0.918919</td>\n",
       "    </tr>\n",
       "    <tr>\n",
       "      <th>AdaBoostClassifier</th>\n",
       "      <td>{'n_estimators': 1}</td>\n",
       "      <td>0.918919</td>\n",
       "    </tr>\n",
       "    <tr>\n",
       "      <th>RandomForestClassifier</th>\n",
       "      <td>{'criterion': 'gini', 'max_features': 'sqrt', ...</td>\n",
       "      <td>0.918919</td>\n",
       "    </tr>\n",
       "    <tr>\n",
       "      <th>DecisionTreeClassifier</th>\n",
       "      <td>{'criterion': 'log_loss', 'max_features': 'sqrt'}</td>\n",
       "      <td>0.810811</td>\n",
       "    </tr>\n",
       "    <tr>\n",
       "      <th>KMeans</th>\n",
       "      <td>{'n_clusters': 10}</td>\n",
       "      <td>0.567568</td>\n",
       "    </tr>\n",
       "    <tr>\n",
       "      <th>Gaussian NB</th>\n",
       "      <td>Default</td>\n",
       "      <td>0.27027</td>\n",
       "    </tr>\n",
       "  </tbody>\n",
       "</table>\n",
       "</div>"
      ],
      "text/plain": [
       "                                                          Best Parameters  \\\n",
       "SVC                                             {'C': 1, 'kernel': 'rbf'}   \n",
       "KNeighborsClassifier    {'algorithm': 'auto', 'n_neighbors': 6, 'weigh...   \n",
       "AdaBoostClassifier                                    {'n_estimators': 1}   \n",
       "RandomForestClassifier  {'criterion': 'gini', 'max_features': 'sqrt', ...   \n",
       "DecisionTreeClassifier  {'criterion': 'log_loss', 'max_features': 'sqrt'}   \n",
       "KMeans                                                 {'n_clusters': 10}   \n",
       "Gaussian NB                                                       Default   \n",
       "\n",
       "                           Score  \n",
       "SVC                     0.918919  \n",
       "KNeighborsClassifier    0.918919  \n",
       "AdaBoostClassifier      0.918919  \n",
       "RandomForestClassifier  0.918919  \n",
       "DecisionTreeClassifier  0.810811  \n",
       "KMeans                  0.567568  \n",
       "Gaussian NB              0.27027  "
      ]
     },
     "execution_count": 14,
     "metadata": {},
     "output_type": "execute_result"
    }
   ],
   "source": [
    "table_2 = pd.DataFrame(Dict_2).transpose().sort_values('Score', ascending = False)\n",
    "table_2"
   ]
  },
  {
   "cell_type": "code",
   "execution_count": 15,
   "id": "9f98ba91",
   "metadata": {},
   "outputs": [
    {
     "data": {
      "image/png": "[encoded data removed]",
      "text/plain": [
       "<Figure size 432x288 with 1 Axes>"
      ]
     },
     "metadata": {
      "needs_background": "light"
     },
     "output_type": "display_data"
    }
   ],
   "source": [
    "table_2['Score'].plot.barh(color = 'gray');"
   ]
  },
  {
   "cell_type": "markdown",
   "id": "a2c251d6",
   "metadata": {},
   "source": [
    "### Logistic Regression with Regularization\n",
    "<a id = '5'></a>\n",
    "to use Lasso I will apply cross validation. The method uses train and test sets interchangingly. "
   ]
  },
  {
   "cell_type": "code",
   "execution_count": 18,
   "id": "13b8829f",
   "metadata": {},
   "outputs": [
    {
     "name": "stdout",
     "output_type": "stream",
     "text": [
      "0.918918918918919\n"
     ]
    }
   ],
   "source": [
    "clf = LogisticRegression(penalty = 'l1', solver = 'liblinear')\n",
    "clf.fit(xtrain, ytrain)\n",
    "print(clf.score(xtest, ytest))"
   ]
  },
  {
   "cell_type": "code",
   "execution_count": 17,
   "id": "a0836ac3",
   "metadata": {},
   "outputs": [
    {
     "name": "stdout",
     "output_type": "stream",
     "text": [
      "0.918918918918919\n"
     ]
    }
   ],
   "source": [
    "clf = LogisticRegression(penalty = 'l2', solver = 'liblinear')\n",
    "clf.fit(xtrain, ytrain)\n",
    "pred = clf.predict(xtest)\n",
    "print(accuracy_score(pred, ytest))"
   ]
  },
  {
   "cell_type": "markdown",
   "id": "7e8ed838",
   "metadata": {},
   "source": [
    "### Linear model with Lasso\n",
    "<a id = '6'></a>\n",
    "This part is just for application. Linear model is not appropriate since our target value is descrete equaling [1,0]."
   ]
  },
  {
   "cell_type": "code",
   "execution_count": 19,
   "id": "760c496f",
   "metadata": {},
   "outputs": [],
   "source": [
    "alphas = np.exp(np.linspace(-2, -12, 25))\n",
    "lasso = LassoCV(cv=5, alphas=alphas, max_iter=5000).fit(features, target)"
   ]
  },
  {
   "cell_type": "code",
   "execution_count": 28,
   "id": "fc43459d",
   "metadata": {},
   "outputs": [],
   "source": [
    "# Choosing the optimal alpha\n",
    "def pickalpha(lassocv) :\n",
    "    imin = np.argmin(lassocv.mse_path_.mean(axis=1))\n",
    "    msemin = lassocv.mse_path_.mean(axis=1)[imin]\n",
    "    se = lassocv.mse_path_.std(axis=1)[imin]\n",
    "    alpha= min([alpha for (alpha, mse) in zip(lassocv.alphas_, lassocv.mse_path_.mean(axis=1)) if mse<msemin+se])\n",
    "    return(alpha)\n",
    "optimal_alpha = pickalpha(lasso)"
   ]
  },
  {
   "cell_type": "code",
   "execution_count": 30,
   "id": "15e7712c",
   "metadata": {},
   "outputs": [
    {
     "data": {
      "image/png": "[encoded data removed]",
      "text/plain": [
       "<Figure size 504x504 with 1 Axes>"
      ]
     },
     "metadata": {
      "needs_background": "light"
     },
     "output_type": "display_data"
    }
   ],
   "source": [
    "### Graphing all possible MSE along alphas\n",
    "plt.figure(figsize = (7,7))\n",
    "alphas = lasso.alphas_\n",
    "mse = lasso.mse_path_.mean(axis=1)\n",
    "std_error = lasso.mse_path_.std(axis=1)\n",
    "plt.plot(alphas,mse)\n",
    "plt.fill_between(alphas, mse + std_error, mse - std_error, alpha=0.2)\n",
    "plt.ylabel('MSE +/- std error')\n",
    "plt.xlabel('alpha')\n",
    "plt.xlim([alphas[0], alphas[-1]])\n",
    "plt.xscale(\"log\")\n",
    "plt.title(\"MSE for prediction of POI\")\n",
    "plt.tight_layout()"
   ]
  },
  {
   "cell_type": "markdown",
   "id": "9b6461ca",
   "metadata": {},
   "source": [
    "### Conclusion\n",
    "<a id = '6'></a>\n",
    "All above tried models have classification prediction power of 91.89 and higher. Even logistic regression can predict at this level. The most succesful ones are Random forest which can sometimes be close to 97%. Otherwise, apart from KMeans, Naive Baesian all models can predict at 91.89% accuracy score level.\n",
    "\n",
    "### [Return to START](#0)"
   ]
  },
  {
   "cell_type": "code",
   "execution_count": null,
   "id": "0695db33",
   "metadata": {},
   "outputs": [],
   "source": []
  }
 ],
 "metadata": {
  "kernelspec": {
   "display_name": "Python 3 (ipykernel)",
   "language": "python",
   "name": "python3"
  },
  "language_info": {
   "codemirror_mode": {
    "name": "ipython",
    "version": 3
   },
   "file_extension": ".py",
   "mimetype": "text/x-python",
   "name": "python",
   "nbconvert_exporter": "python",
   "pygments_lexer": "ipython3",
   "version": "3.9.12"
  }
 },
 "nbformat": 4,
 "nbformat_minor": 5
}
